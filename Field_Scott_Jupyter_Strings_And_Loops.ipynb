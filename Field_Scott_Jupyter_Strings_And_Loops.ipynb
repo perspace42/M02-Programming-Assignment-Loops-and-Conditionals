{
 "cells": [
  {
   "cell_type": "code",
   "execution_count": 3,
   "id": "a52b2f14",
   "metadata": {
    "scrolled": false
   },
   "outputs": [
    {
     "data": {
      "text/plain": [
       "'\\nAuthor: Scott Field\\nVersion: 1.00\\nDate: 3/28/2023\\nProgram Name: Jupyter_Strings_And_Loops\\nProgram Purpose: Show understanding of for loops and if,elif,else.\\n'"
      ]
     },
     "execution_count": 3,
     "metadata": {},
     "output_type": "execute_result"
    }
   ],
   "source": [
    "'''\n",
    "Author: Scott Field\n",
    "Version: 1.00\n",
    "Date: 3/28/2023\n",
    "Program Name: Jupyter_Strings_And_Loops\n",
    "Program Purpose: Show understanding of for loops, while loops and if,elif,else.\n",
    "'''"
   ]
  },
  {
   "cell_type": "code",
   "execution_count": 1,
   "id": "5025da97",
   "metadata": {},
   "outputs": [
    {
     "name": "stdout",
     "output_type": "stream",
     "text": [
      "Exercise 4.1:\n",
      "too high\n"
     ]
    }
   ],
   "source": [
    "#Exercise 4.1 Set two variables between 1 & 10 (guess, secret) then output based on the comparison of values of guess and secret \n",
    "#Header Print:\n",
    "print(\"Exercise 4.1:\")\n",
    "\n",
    "secret = 7\n",
    "guess = 10\n",
    "if (guess < secret):\n",
    "    print(\"too low\")\n",
    "elif(guess > secret):\n",
    "    print(\"too high\")\n",
    "#if guess is not < or > than secret then guess == secret\n",
    "else:\n",
    "    print(\"just right\")\n"
   ]
  },
  {
   "cell_type": "code",
   "execution_count": 2,
   "id": "1bd354e2",
   "metadata": {},
   "outputs": [
    {
     "name": "stdout",
     "output_type": "stream",
     "text": [
      "Exercise 4.2:\n",
      "watermelon\n"
     ]
    }
   ],
   "source": [
    "#Exercise 4.2 Assign True or False to the variables small and green. Write some if/else statements to print which of these matches those choices: cherry, pea, watermelon, pumpkin.\n",
    "#Header Print:\n",
    "print(\"Exercise 4.2:\")\n",
    "\n",
    "small = False\n",
    "green = True\n",
    "#Using boolean variables small and green test which fruit/vegetable has been selected\n",
    "if (small and green):\n",
    "    print(\"pea\")\n",
    "else:\n",
    "    if(small and not green):\n",
    "        print(\"cherry\")\n",
    "    else:\n",
    "        if( not small and green):\n",
    "            print(\"watermelon\")\n",
    "        else:\n",
    "            print(\"pumpkin\")"
   ]
  },
  {
   "cell_type": "code",
   "execution_count": 3,
   "id": "a566b2e8",
   "metadata": {},
   "outputs": [
    {
     "name": "stdout",
     "output_type": "stream",
     "text": [
      "Exercise 6.1:\n",
      "3\n",
      "2\n",
      "1\n",
      "0\n"
     ]
    }
   ],
   "source": [
    "#Exercise 6.1 Use a for loop to print the values of the list [3, 2, 1, 0].\n",
    "#Header Print:\n",
    "print(\"Exercise 6.1:\")\n",
    "\n",
    "number_list = [3,2,1,0]\n",
    "#get list length\n",
    "list_length = len(number_list)\n",
    "#iterate across list using index and list_length\n",
    "for index in range(0,list_length):\n",
    "    #print list item at postion: index\n",
    "    print(number_list[index])\n"
   ]
  },
  {
   "cell_type": "code",
   "execution_count": 4,
   "id": "87f3954a",
   "metadata": {},
   "outputs": [
    {
     "name": "stdout",
     "output_type": "stream",
     "text": [
      "Exercise 6.2:\n",
      "to low\n",
      "to low\n",
      "to low\n",
      "to low\n",
      "to low\n",
      "to low\n",
      "found it!\n"
     ]
    }
   ],
   "source": [
    "#Exercise 6.2 Use a while loop to compare a guessed number value to another number value\n",
    "#Header Print:\n",
    "print(\"Exercise 6.2:\")\n",
    "\n",
    "guess_me = 7\n",
    "number = 1\n",
    "\n",
    "#guess_me and number must be in while loop test conditions which must have an or statement in case number starts == to guess_me\n",
    "while (guess_me != number or guess_me == number):\n",
    "    if (number < guess_me):\n",
    "        print(\"to low\")\n",
    "        #Increment number then continue loop untill number == guess_me\n",
    "        number += 1\n",
    "    elif(number > guess_me):\n",
    "        print(\"oops\")\n",
    "        break\n",
    "    #If number is not < or > than guess_me then number == guess_me \n",
    "    if (number == guess_me):\n",
    "        print(\"found it!\")\n",
    "        break\n"
   ]
  },
  {
   "cell_type": "code",
   "execution_count": 5,
   "id": "8188fffc",
   "metadata": {},
   "outputs": [
    {
     "name": "stdout",
     "output_type": "stream",
     "text": [
      "Exercise 6.3:\n",
      "to low\n",
      "to low\n",
      "to low\n",
      "to low\n",
      "to low\n",
      "found it!\n"
     ]
    }
   ],
   "source": [
    "#Exercise 6.3 Use a for loop to compare a guessed number value to another number value\n",
    "#Header Print:\n",
    "print(\"Exercise 6.3:\")\n",
    "\n",
    "guess_me = 5\n",
    "for number in range(10):\n",
    "    if (number < guess_me):\n",
    "        print(\"to low\")\n",
    "    elif(number > guess_me):\n",
    "        print(\"oops\")\n",
    "        break\n",
    "    #If number is not < or > than guess_me then number == guess_me \n",
    "    else:\n",
    "        print(\"found it!\")\n",
    "        break"
   ]
  }
 ],
 "metadata": {
  "kernelspec": {
   "display_name": "Python 3 (ipykernel)",
   "language": "python",
   "name": "python3"
  },
  "language_info": {
   "codemirror_mode": {
    "name": "ipython",
    "version": 3
   },
   "file_extension": ".py",
   "mimetype": "text/x-python",
   "name": "python",
   "nbconvert_exporter": "python",
   "pygments_lexer": "ipython3",
   "version": "3.9.13"
  }
 },
 "nbformat": 4,
 "nbformat_minor": 5
}
